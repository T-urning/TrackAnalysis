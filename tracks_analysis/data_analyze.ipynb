{
 "cells": [
  {
   "cell_type": "code",
   "execution_count": null,
   "metadata": {},
   "outputs": [],
   "source": [
    "import os\n",
    "import sys\n",
    "import json\n",
    "\n",
    "project_path = os.path.dirname(os.path.dirname(os.path.abspath(__file__)))\n",
    "sys.path.append(project_path)\n",
    "\n",
    "data_dir = './tracks_data'\n",
    "file_list = os.listdir(data_dir)"
   ]
  },
  {
   "cell_type": "code",
   "execution_count": null,
   "metadata": {},
   "outputs": [],
   "source": [
    "for f_name in file_list:\n",
    "    file_path = data_dir + '/{}'.format(f_name)\n",
    "    if is_file_empty(file_path):\n",
    "        continue\n",
    "        print(f_name)\n",
    "    "
   ]
  }
 ],
 "metadata": {
  "language_info": {
   "codemirror_mode": {
    "name": "ipython",
    "version": 3
   },
   "file_extension": ".py",
   "mimetype": "text/x-python",
   "name": "python",
   "nbconvert_exporter": "python",
   "pygments_lexer": "ipython3",
   "version": 3
  },
  "orig_nbformat": 2
 },
 "nbformat": 4,
 "nbformat_minor": 2
}